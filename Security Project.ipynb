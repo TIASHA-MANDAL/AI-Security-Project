{
 "cells": [
  {
   "cell_type": "code",
   "execution_count": 1,
   "id": "12b59275",
   "metadata": {},
   "outputs": [],
   "source": [
    "import torch"
   ]
  },
  {
   "cell_type": "code",
   "execution_count": 2,
   "id": "d37d13d9",
   "metadata": {},
   "outputs": [],
   "source": [
    "from IPython.display import Image "
   ]
  },
  {
   "cell_type": "code",
   "execution_count": 3,
   "id": "7afba923",
   "metadata": {},
   "outputs": [
    {
     "name": "stdout",
     "output_type": "stream",
     "text": [
      "D:\\Security-project\\yolov5\n"
     ]
    }
   ],
   "source": [
    "%cd yolov5"
   ]
  },
  {
   "cell_type": "code",
   "execution_count": 5,
   "id": "9193f50e",
   "metadata": {
    "scrolled": false
   },
   "outputs": [
    {
     "name": "stdout",
     "output_type": "stream",
     "text": [
      "Requirement already satisfied: matplotlib>=3.2.2 in c:\\users\\ankush\\appdata\\local\\programs\\python\\python310\\lib\\site-packages (from -r requirements.txt (line 5)) (3.6.0)\n",
      "Requirement already satisfied: numpy>=1.18.5 in c:\\users\\ankush\\appdata\\local\\programs\\python\\python310\\lib\\site-packages (from -r requirements.txt (line 6)) (1.23.2)\n",
      "Requirement already satisfied: opencv-python>=4.1.1 in c:\\users\\ankush\\appdata\\local\\programs\\python\\python310\\lib\\site-packages (from -r requirements.txt (line 7)) (4.6.0.66)\n",
      "Requirement already satisfied: Pillow>=7.1.2 in c:\\users\\ankush\\appdata\\local\\programs\\python\\python310\\lib\\site-packages (from -r requirements.txt (line 8)) (9.2.0)\n",
      "Requirement already satisfied: PyYAML>=5.3.1 in c:\\users\\ankush\\appdata\\local\\programs\\python\\python310\\lib\\site-packages (from -r requirements.txt (line 9)) (6.0)\n",
      "Requirement already satisfied: requests>=2.23.0 in c:\\users\\ankush\\appdata\\local\\programs\\python\\python310\\lib\\site-packages (from -r requirements.txt (line 10)) (2.28.1)\n",
      "Requirement already satisfied: scipy>=1.4.1 in c:\\users\\ankush\\appdata\\local\\programs\\python\\python310\\lib\\site-packages (from -r requirements.txt (line 11)) (1.9.3)\n",
      "Requirement already satisfied: torch>=1.7.0 in c:\\users\\ankush\\appdata\\local\\programs\\python\\python310\\lib\\site-packages (from -r requirements.txt (line 12)) (1.12.1)\n",
      "Requirement already satisfied: torchvision>=0.8.1 in c:\\users\\ankush\\appdata\\local\\programs\\python\\python310\\lib\\site-packages (from -r requirements.txt (line 13)) (0.13.1)\n",
      "Requirement already satisfied: tqdm>=4.64.0 in c:\\users\\ankush\\appdata\\local\\programs\\python\\python310\\lib\\site-packages (from -r requirements.txt (line 14)) (4.64.1)\n",
      "Requirement already satisfied: tensorboard>=2.4.1 in c:\\users\\ankush\\appdata\\local\\programs\\python\\python310\\lib\\site-packages (from -r requirements.txt (line 18)) (2.10.1)\n",
      "Requirement already satisfied: pandas>=1.1.4 in c:\\users\\ankush\\appdata\\local\\programs\\python\\python310\\lib\\site-packages (from -r requirements.txt (line 23)) (1.5.1)\n",
      "Requirement already satisfied: seaborn>=0.11.0 in c:\\users\\ankush\\appdata\\local\\programs\\python\\python310\\lib\\site-packages (from -r requirements.txt (line 24)) (0.12.1)\n",
      "Requirement already satisfied: ipython in c:\\users\\ankush\\appdata\\local\\programs\\python\\python310\\lib\\site-packages (from -r requirements.txt (line 41)) (8.5.0)\n",
      "Requirement already satisfied: psutil in c:\\users\\ankush\\appdata\\local\\programs\\python\\python310\\lib\\site-packages (from -r requirements.txt (line 42)) (5.9.3)\n",
      "Requirement already satisfied: thop>=0.1.1 in c:\\users\\ankush\\appdata\\local\\programs\\python\\python310\\lib\\site-packages (from -r requirements.txt (line 43)) (0.1.1.post2209072238)\n",
      "Requirement already satisfied: kiwisolver>=1.0.1 in c:\\users\\ankush\\appdata\\local\\programs\\python\\python310\\lib\\site-packages (from matplotlib>=3.2.2->-r requirements.txt (line 5)) (1.4.4)\n",
      "Requirement already satisfied: python-dateutil>=2.7 in c:\\users\\ankush\\appdata\\local\\programs\\python\\python310\\lib\\site-packages (from matplotlib>=3.2.2->-r requirements.txt (line 5)) (2.8.2)\n",
      "Requirement already satisfied: fonttools>=4.22.0 in c:\\users\\ankush\\appdata\\local\\programs\\python\\python310\\lib\\site-packages (from matplotlib>=3.2.2->-r requirements.txt (line 5)) (4.38.0)\n",
      "Requirement already satisfied: packaging>=20.0 in c:\\users\\ankush\\appdata\\local\\programs\\python\\python310\\lib\\site-packages (from matplotlib>=3.2.2->-r requirements.txt (line 5)) (21.3)\n",
      "Requirement already satisfied: cycler>=0.10 in c:\\users\\ankush\\appdata\\local\\programs\\python\\python310\\lib\\site-packages (from matplotlib>=3.2.2->-r requirements.txt (line 5)) (0.11.0)\n",
      "Requirement already satisfied: contourpy>=1.0.1 in c:\\users\\ankush\\appdata\\local\\programs\\python\\python310\\lib\\site-packages (from matplotlib>=3.2.2->-r requirements.txt (line 5)) (1.0.5)\n",
      "Requirement already satisfied: pyparsing>=2.2.1 in c:\\users\\ankush\\appdata\\local\\programs\\python\\python310\\lib\\site-packages (from matplotlib>=3.2.2->-r requirements.txt (line 5)) (3.0.9)\n",
      "Requirement already satisfied: certifi>=2017.4.17 in c:\\users\\ankush\\appdata\\local\\programs\\python\\python310\\lib\\site-packages (from requests>=2.23.0->-r requirements.txt (line 10)) (2022.9.24)\n",
      "Requirement already satisfied: idna<4,>=2.5 in c:\\users\\ankush\\appdata\\local\\programs\\python\\python310\\lib\\site-packages (from requests>=2.23.0->-r requirements.txt (line 10)) (3.4)\n",
      "Requirement already satisfied: charset-normalizer<3,>=2 in c:\\users\\ankush\\appdata\\local\\programs\\python\\python310\\lib\\site-packages (from requests>=2.23.0->-r requirements.txt (line 10)) (2.1.1)\n",
      "Requirement already satisfied: urllib3<1.27,>=1.21.1 in c:\\users\\ankush\\appdata\\local\\programs\\python\\python310\\lib\\site-packages (from requests>=2.23.0->-r requirements.txt (line 10)) (1.26.12)\n",
      "Requirement already satisfied: typing-extensions in c:\\users\\ankush\\appdata\\local\\programs\\python\\python310\\lib\\site-packages (from torch>=1.7.0->-r requirements.txt (line 12)) (4.4.0)\n",
      "Requirement already satisfied: colorama in c:\\users\\ankush\\appdata\\local\\programs\\python\\python310\\lib\\site-packages (from tqdm>=4.64.0->-r requirements.txt (line 14)) (0.4.5)\n",
      "Requirement already satisfied: werkzeug>=1.0.1 in c:\\users\\ankush\\appdata\\local\\programs\\python\\python310\\lib\\site-packages (from tensorboard>=2.4.1->-r requirements.txt (line 18)) (2.2.2)\n",
      "Requirement already satisfied: markdown>=2.6.8 in c:\\users\\ankush\\appdata\\local\\programs\\python\\python310\\lib\\site-packages (from tensorboard>=2.4.1->-r requirements.txt (line 18)) (3.4.1)\n",
      "Requirement already satisfied: grpcio>=1.24.3 in c:\\users\\ankush\\appdata\\local\\programs\\python\\python310\\lib\\site-packages (from tensorboard>=2.4.1->-r requirements.txt (line 18)) (1.50.0)\n",
      "Requirement already satisfied: protobuf<3.20,>=3.9.2 in c:\\users\\ankush\\appdata\\local\\programs\\python\\python310\\lib\\site-packages (from tensorboard>=2.4.1->-r requirements.txt (line 18)) (3.19.6)\n",
      "Requirement already satisfied: setuptools>=41.0.0 in c:\\users\\ankush\\appdata\\local\\programs\\python\\python310\\lib\\site-packages (from tensorboard>=2.4.1->-r requirements.txt (line 18)) (63.2.0)\n",
      "Requirement already satisfied: google-auth<3,>=1.6.3 in c:\\users\\ankush\\appdata\\local\\programs\\python\\python310\\lib\\site-packages (from tensorboard>=2.4.1->-r requirements.txt (line 18)) (2.13.0)\n",
      "Requirement already satisfied: absl-py>=0.4 in c:\\users\\ankush\\appdata\\local\\programs\\python\\python310\\lib\\site-packages (from tensorboard>=2.4.1->-r requirements.txt (line 18)) (1.3.0)\n",
      "Requirement already satisfied: google-auth-oauthlib<0.5,>=0.4.1 in c:\\users\\ankush\\appdata\\local\\programs\\python\\python310\\lib\\site-packages (from tensorboard>=2.4.1->-r requirements.txt (line 18)) (0.4.6)\n",
      "Requirement already satisfied: tensorboard-plugin-wit>=1.6.0 in c:\\users\\ankush\\appdata\\local\\programs\\python\\python310\\lib\\site-packages (from tensorboard>=2.4.1->-r requirements.txt (line 18)) (1.8.1)\n",
      "Requirement already satisfied: tensorboard-data-server<0.7.0,>=0.6.0 in c:\\users\\ankush\\appdata\\local\\programs\\python\\python310\\lib\\site-packages (from tensorboard>=2.4.1->-r requirements.txt (line 18)) (0.6.1)\n",
      "Requirement already satisfied: wheel>=0.26 in c:\\users\\ankush\\appdata\\local\\programs\\python\\python310\\lib\\site-packages (from tensorboard>=2.4.1->-r requirements.txt (line 18)) (0.37.1)\n",
      "Requirement already satisfied: pytz>=2020.1 in c:\\users\\ankush\\appdata\\local\\programs\\python\\python310\\lib\\site-packages (from pandas>=1.1.4->-r requirements.txt (line 23)) (2022.5)\n",
      "Requirement already satisfied: traitlets>=5 in c:\\users\\ankush\\appdata\\local\\programs\\python\\python310\\lib\\site-packages (from ipython->-r requirements.txt (line 41)) (5.5.0)\n",
      "Requirement already satisfied: decorator in c:\\users\\ankush\\appdata\\local\\programs\\python\\python310\\lib\\site-packages (from ipython->-r requirements.txt (line 41)) (5.1.1)\n",
      "Requirement already satisfied: backcall in c:\\users\\ankush\\appdata\\local\\programs\\python\\python310\\lib\\site-packages (from ipython->-r requirements.txt (line 41)) (0.2.0)\n",
      "Requirement already satisfied: matplotlib-inline in c:\\users\\ankush\\appdata\\local\\programs\\python\\python310\\lib\\site-packages (from ipython->-r requirements.txt (line 41)) (0.1.6)\n",
      "Requirement already satisfied: jedi>=0.16 in c:\\users\\ankush\\appdata\\local\\programs\\python\\python310\\lib\\site-packages (from ipython->-r requirements.txt (line 41)) (0.18.1)\n",
      "Requirement already satisfied: pickleshare in c:\\users\\ankush\\appdata\\local\\programs\\python\\python310\\lib\\site-packages (from ipython->-r requirements.txt (line 41)) (0.7.5)\n",
      "Requirement already satisfied: prompt-toolkit<3.1.0,>3.0.1 in c:\\users\\ankush\\appdata\\local\\programs\\python\\python310\\lib\\site-packages (from ipython->-r requirements.txt (line 41)) (3.0.31)\n",
      "Requirement already satisfied: pygments>=2.4.0 in c:\\users\\ankush\\appdata\\local\\programs\\python\\python310\\lib\\site-packages (from ipython->-r requirements.txt (line 41)) (2.13.0)\n",
      "Requirement already satisfied: stack-data in c:\\users\\ankush\\appdata\\local\\programs\\python\\python310\\lib\\site-packages (from ipython->-r requirements.txt (line 41)) (0.5.1)\n",
      "Requirement already satisfied: pyasn1-modules>=0.2.1 in c:\\users\\ankush\\appdata\\local\\programs\\python\\python310\\lib\\site-packages (from google-auth<3,>=1.6.3->tensorboard>=2.4.1->-r requirements.txt (line 18)) (0.2.8)\n",
      "Requirement already satisfied: cachetools<6.0,>=2.0.0 in c:\\users\\ankush\\appdata\\local\\programs\\python\\python310\\lib\\site-packages (from google-auth<3,>=1.6.3->tensorboard>=2.4.1->-r requirements.txt (line 18)) (5.2.0)\n",
      "Requirement already satisfied: six>=1.9.0 in c:\\users\\ankush\\appdata\\local\\programs\\python\\python310\\lib\\site-packages (from google-auth<3,>=1.6.3->tensorboard>=2.4.1->-r requirements.txt (line 18)) (1.16.0)\n",
      "Requirement already satisfied: rsa<5,>=3.1.4 in c:\\users\\ankush\\appdata\\local\\programs\\python\\python310\\lib\\site-packages (from google-auth<3,>=1.6.3->tensorboard>=2.4.1->-r requirements.txt (line 18)) (4.9)\n",
      "Requirement already satisfied: requests-oauthlib>=0.7.0 in c:\\users\\ankush\\appdata\\local\\programs\\python\\python310\\lib\\site-packages (from google-auth-oauthlib<0.5,>=0.4.1->tensorboard>=2.4.1->-r requirements.txt (line 18)) (1.3.1)\n",
      "Requirement already satisfied: parso<0.9.0,>=0.8.0 in c:\\users\\ankush\\appdata\\local\\programs\\python\\python310\\lib\\site-packages (from jedi>=0.16->ipython->-r requirements.txt (line 41)) (0.8.3)\n",
      "Requirement already satisfied: wcwidth in c:\\users\\ankush\\appdata\\local\\programs\\python\\python310\\lib\\site-packages (from prompt-toolkit<3.1.0,>3.0.1->ipython->-r requirements.txt (line 41)) (0.2.5)\n",
      "Requirement already satisfied: MarkupSafe>=2.1.1 in c:\\users\\ankush\\appdata\\local\\programs\\python\\python310\\lib\\site-packages (from werkzeug>=1.0.1->tensorboard>=2.4.1->-r requirements.txt (line 18)) (2.1.1)\n",
      "Requirement already satisfied: pure-eval in c:\\users\\ankush\\appdata\\local\\programs\\python\\python310\\lib\\site-packages (from stack-data->ipython->-r requirements.txt (line 41)) (0.2.2)\n",
      "Requirement already satisfied: asttokens in c:\\users\\ankush\\appdata\\local\\programs\\python\\python310\\lib\\site-packages (from stack-data->ipython->-r requirements.txt (line 41)) (2.0.8)\n",
      "Requirement already satisfied: executing in c:\\users\\ankush\\appdata\\local\\programs\\python\\python310\\lib\\site-packages (from stack-data->ipython->-r requirements.txt (line 41)) (1.1.1)\n",
      "Requirement already satisfied: pyasn1<0.5.0,>=0.4.6 in c:\\users\\ankush\\appdata\\local\\programs\\python\\python310\\lib\\site-packages (from pyasn1-modules>=0.2.1->google-auth<3,>=1.6.3->tensorboard>=2.4.1->-r requirements.txt (line 18)) (0.4.8)\n",
      "Requirement already satisfied: oauthlib>=3.0.0 in c:\\users\\ankush\\appdata\\local\\programs\\python\\python310\\lib\\site-packages (from requests-oauthlib>=0.7.0->google-auth-oauthlib<0.5,>=0.4.1->tensorboard>=2.4.1->-r requirements.txt (line 18)) (3.2.2)\n"
     ]
    }
   ],
   "source": [
    "!pip install -r requirements.txt"
   ]
  },
  {
   "cell_type": "code",
   "execution_count": 11,
   "id": "156b8798",
   "metadata": {},
   "outputs": [
    {
     "ename": "OSError",
     "evalue": "[WinError 123] The filename, directory name, or volume label syntax is incorrect: 'D:\\\\Security-project\\train_data'",
     "output_type": "error",
     "traceback": [
      "\u001b[1;31m---------------------------------------------------------------------------\u001b[0m",
      "\u001b[1;31mOSError\u001b[0m                                   Traceback (most recent call last)",
      "Cell \u001b[1;32mIn [11], line 10\u001b[0m\n\u001b[0;32m      7\u001b[0m valPath\u001b[38;5;241m=\u001b[39m\u001b[38;5;124m'\u001b[39m\u001b[38;5;124mD:\u001b[39m\u001b[38;5;124m\\\u001b[39m\u001b[38;5;124mSecurity-project\u001b[39m\u001b[38;5;130;01m\\t\u001b[39;00m\u001b[38;5;124mrain_data\u001b[39m\u001b[38;5;124m\\\u001b[39m\u001b[38;5;124mimages\u001b[39m\u001b[38;5;130;01m\\v\u001b[39;00m\u001b[38;5;124mal\u001b[39m\u001b[38;5;124m'\u001b[39m\n\u001b[0;32m      8\u001b[0m crsPath\u001b[38;5;241m=\u001b[39m\u001b[38;5;124m'\u001b[39m\u001b[38;5;124mD:\u001b[39m\u001b[38;5;124m\\\u001b[39m\u001b[38;5;124mSecurity-project\u001b[39m\u001b[38;5;130;01m\\t\u001b[39;00m\u001b[38;5;124mrain_data\u001b[39m\u001b[38;5;124m'\u001b[39m\n\u001b[1;32m---> 10\u001b[0m totalImgcount \u001b[38;5;241m=\u001b[39m \u001b[38;5;28mlen\u001b[39m(\u001b[43mos\u001b[49m\u001b[38;5;241;43m.\u001b[39;49m\u001b[43mlistdir\u001b[49m\u001b[43m(\u001b[49m\u001b[43mcrsPath\u001b[49m\u001b[43m)\u001b[49m)\u001b[38;5;241m/\u001b[39m\u001b[38;5;241m2\u001b[39m\n\u001b[0;32m     11\u001b[0m \u001b[38;5;28;01mfor\u001b[39;00m(dirname,dirs,files) \u001b[38;5;129;01min\u001b[39;00m os\u001b[38;5;241m.\u001b[39mwalk(crsPath):\n\u001b[0;32m     12\u001b[0m     \u001b[38;5;28;01mfor\u001b[39;00m filename \u001b[38;5;129;01min\u001b[39;00m files:\n",
      "\u001b[1;31mOSError\u001b[0m: [WinError 123] The filename, directory name, or volume label syntax is incorrect: 'D:\\\\Security-project\\train_data'"
     ]
    }
   ],
   "source": [
    "import os \n",
    "from random import choice\n",
    "import shutil\n",
    "imgs=[]\n",
    "xmls=[]\n",
    "trainPath= 'D:\\Security-project\\train_data\\images\\train'\n",
    "valPath='D:\\Security-project\\train_data\\images\\val'\n",
    "crsPath='D:\\Security-project\\train_data'\n",
    "\n",
    "\n",
    "\n"
   ]
  },
  {
   "cell_type": "code",
   "execution_count": null,
   "id": "9aeb9a79",
   "metadata": {},
   "outputs": [],
   "source": [
    "trainimagePath = 'D:\\Security-project\\train_data\\images\\train'\n",
    "trainlabelPath = 'D:\\Security-project\\train_data\\labels\\train'\n",
    "valimagePath = 'D:\\Security-project\\train_data\\images\\val'\n",
    "vallabelPath = 'D:\\Security-project\\train_data\\labels\\val'\n",
    "\n",
    "for x in range(0,105):\n",
    "    "
   ]
  }
 ],
 "metadata": {
  "kernelspec": {
   "display_name": "Python 3 (ipykernel)",
   "language": "python",
   "name": "python3"
  },
  "language_info": {
   "codemirror_mode": {
    "name": "ipython",
    "version": 3
   },
   "file_extension": ".py",
   "mimetype": "text/x-python",
   "name": "python",
   "nbconvert_exporter": "python",
   "pygments_lexer": "ipython3",
   "version": "3.10.6"
  }
 },
 "nbformat": 4,
 "nbformat_minor": 5
}
