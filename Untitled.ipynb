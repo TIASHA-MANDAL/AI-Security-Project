{
 "cells": [
  {
   "cell_type": "code",
   "execution_count": 1,
   "id": "28fcfea5",
   "metadata": {},
   "outputs": [
    {
     "name": "stdout",
     "output_type": "stream",
     "text": [
      "D:\\Security-project\\yolov5\n"
     ]
    }
   ],
   "source": [
    "cd yolov5\n"
   ]
  },
  {
   "cell_type": "code",
   "execution_count": 2,
   "id": "a9b82667",
   "metadata": {},
   "outputs": [
    {
     "name": "stdout",
     "output_type": "stream",
     "text": [
      "Requirement already satisfied: matplotlib>=3.2.2 in c:\\users\\ankush\\appdata\\local\\programs\\python\\python310\\lib\\site-packages (from -r requirements.txt (line 5)) (3.6.0)\n",
      "Requirement already satisfied: numpy>=1.18.5 in c:\\users\\ankush\\appdata\\local\\programs\\python\\python310\\lib\\site-packages (from -r requirements.txt (line 6)) (1.23.2)\n",
      "Requirement already satisfied: opencv-python>=4.1.1 in c:\\users\\ankush\\appdata\\local\\programs\\python\\python310\\lib\\site-packages (from -r requirements.txt (line 7)) (4.6.0.66)\n",
      "Requirement already satisfied: Pillow>=7.1.2 in c:\\users\\ankush\\appdata\\local\\programs\\python\\python310\\lib\\site-packages (from -r requirements.txt (line 8)) (9.2.0)\n",
      "Requirement already satisfied: PyYAML>=5.3.1 in c:\\users\\ankush\\appdata\\local\\programs\\python\\python310\\lib\\site-packages (from -r requirements.txt (line 9)) (6.0)\n",
      "Requirement already satisfied: requests>=2.23.0 in c:\\users\\ankush\\appdata\\local\\programs\\python\\python310\\lib\\site-packages (from -r requirements.txt (line 10)) (2.28.1)\n",
      "Requirement already satisfied: scipy>=1.4.1 in c:\\users\\ankush\\appdata\\local\\programs\\python\\python310\\lib\\site-packages (from -r requirements.txt (line 11)) (1.9.3)\n",
      "Requirement already satisfied: torch>=1.7.0 in c:\\users\\ankush\\appdata\\local\\programs\\python\\python310\\lib\\site-packages (from -r requirements.txt (line 12)) (1.12.1)\n",
      "Requirement already satisfied: torchvision>=0.8.1 in c:\\users\\ankush\\appdata\\local\\programs\\python\\python310\\lib\\site-packages (from -r requirements.txt (line 13)) (0.13.1)\n",
      "Requirement already satisfied: tqdm>=4.64.0 in c:\\users\\ankush\\appdata\\local\\programs\\python\\python310\\lib\\site-packages (from -r requirements.txt (line 14)) (4.64.1)\n",
      "Requirement already satisfied: tensorboard>=2.4.1 in c:\\users\\ankush\\appdata\\local\\programs\\python\\python310\\lib\\site-packages (from -r requirements.txt (line 18)) (2.10.1)\n",
      "Requirement already satisfied: pandas>=1.1.4 in c:\\users\\ankush\\appdata\\local\\programs\\python\\python310\\lib\\site-packages (from -r requirements.txt (line 23)) (1.5.1)\n",
      "Requirement already satisfied: seaborn>=0.11.0 in c:\\users\\ankush\\appdata\\local\\programs\\python\\python310\\lib\\site-packages (from -r requirements.txt (line 24)) (0.12.1)\n",
      "Requirement already satisfied: ipython in c:\\users\\ankush\\appdata\\local\\programs\\python\\python310\\lib\\site-packages (from -r requirements.txt (line 41)) (8.5.0)\n",
      "Requirement already satisfied: psutil in c:\\users\\ankush\\appdata\\local\\programs\\python\\python310\\lib\\site-packages (from -r requirements.txt (line 42)) (5.9.3)\n",
      "Requirement already satisfied: thop>=0.1.1 in c:\\users\\ankush\\appdata\\local\\programs\\python\\python310\\lib\\site-packages (from -r requirements.txt (line 43)) (0.1.1.post2209072238)\n",
      "Requirement already satisfied: pyparsing>=2.2.1 in c:\\users\\ankush\\appdata\\local\\programs\\python\\python310\\lib\\site-packages (from matplotlib>=3.2.2->-r requirements.txt (line 5)) (3.0.9)\n",
      "Requirement already satisfied: cycler>=0.10 in c:\\users\\ankush\\appdata\\local\\programs\\python\\python310\\lib\\site-packages (from matplotlib>=3.2.2->-r requirements.txt (line 5)) (0.11.0)\n",
      "Requirement already satisfied: python-dateutil>=2.7 in c:\\users\\ankush\\appdata\\local\\programs\\python\\python310\\lib\\site-packages (from matplotlib>=3.2.2->-r requirements.txt (line 5)) (2.8.2)\n",
      "Requirement already satisfied: contourpy>=1.0.1 in c:\\users\\ankush\\appdata\\local\\programs\\python\\python310\\lib\\site-packages (from matplotlib>=3.2.2->-r requirements.txt (line 5)) (1.0.5)\n",
      "Requirement already satisfied: packaging>=20.0 in c:\\users\\ankush\\appdata\\local\\programs\\python\\python310\\lib\\site-packages (from matplotlib>=3.2.2->-r requirements.txt (line 5)) (21.3)\n",
      "Requirement already satisfied: kiwisolver>=1.0.1 in c:\\users\\ankush\\appdata\\local\\programs\\python\\python310\\lib\\site-packages (from matplotlib>=3.2.2->-r requirements.txt (line 5)) (1.4.4)\n",
      "Requirement already satisfied: fonttools>=4.22.0 in c:\\users\\ankush\\appdata\\local\\programs\\python\\python310\\lib\\site-packages (from matplotlib>=3.2.2->-r requirements.txt (line 5)) (4.38.0)\n",
      "Requirement already satisfied: charset-normalizer<3,>=2 in c:\\users\\ankush\\appdata\\local\\programs\\python\\python310\\lib\\site-packages (from requests>=2.23.0->-r requirements.txt (line 10)) (2.1.1)\n",
      "Requirement already satisfied: idna<4,>=2.5 in c:\\users\\ankush\\appdata\\local\\programs\\python\\python310\\lib\\site-packages (from requests>=2.23.0->-r requirements.txt (line 10)) (3.4)\n",
      "Requirement already satisfied: certifi>=2017.4.17 in c:\\users\\ankush\\appdata\\local\\programs\\python\\python310\\lib\\site-packages (from requests>=2.23.0->-r requirements.txt (line 10)) (2022.9.24)\n",
      "Requirement already satisfied: urllib3<1.27,>=1.21.1 in c:\\users\\ankush\\appdata\\local\\programs\\python\\python310\\lib\\site-packages (from requests>=2.23.0->-r requirements.txt (line 10)) (1.26.12)\n",
      "Requirement already satisfied: typing-extensions in c:\\users\\ankush\\appdata\\local\\programs\\python\\python310\\lib\\site-packages (from torch>=1.7.0->-r requirements.txt (line 12)) (4.4.0)\n",
      "Requirement already satisfied: colorama in c:\\users\\ankush\\appdata\\local\\programs\\python\\python310\\lib\\site-packages (from tqdm>=4.64.0->-r requirements.txt (line 14)) (0.4.5)\n",
      "Requirement already satisfied: grpcio>=1.24.3 in c:\\users\\ankush\\appdata\\local\\programs\\python\\python310\\lib\\site-packages (from tensorboard>=2.4.1->-r requirements.txt (line 18)) (1.50.0)\n",
      "Requirement already satisfied: protobuf<3.20,>=3.9.2 in c:\\users\\ankush\\appdata\\local\\programs\\python\\python310\\lib\\site-packages (from tensorboard>=2.4.1->-r requirements.txt (line 18)) (3.19.6)\n",
      "Requirement already satisfied: wheel>=0.26 in c:\\users\\ankush\\appdata\\local\\programs\\python\\python310\\lib\\site-packages (from tensorboard>=2.4.1->-r requirements.txt (line 18)) (0.37.1)\n",
      "Requirement already satisfied: markdown>=2.6.8 in c:\\users\\ankush\\appdata\\local\\programs\\python\\python310\\lib\\site-packages (from tensorboard>=2.4.1->-r requirements.txt (line 18)) (3.4.1)\n",
      "Requirement already satisfied: werkzeug>=1.0.1 in c:\\users\\ankush\\appdata\\local\\programs\\python\\python310\\lib\\site-packages (from tensorboard>=2.4.1->-r requirements.txt (line 18)) (2.2.2)\n",
      "Requirement already satisfied: google-auth-oauthlib<0.5,>=0.4.1 in c:\\users\\ankush\\appdata\\local\\programs\\python\\python310\\lib\\site-packages (from tensorboard>=2.4.1->-r requirements.txt (line 18)) (0.4.6)\n",
      "Requirement already satisfied: tensorboard-plugin-wit>=1.6.0 in c:\\users\\ankush\\appdata\\local\\programs\\python\\python310\\lib\\site-packages (from tensorboard>=2.4.1->-r requirements.txt (line 18)) (1.8.1)\n",
      "Requirement already satisfied: google-auth<3,>=1.6.3 in c:\\users\\ankush\\appdata\\local\\programs\\python\\python310\\lib\\site-packages (from tensorboard>=2.4.1->-r requirements.txt (line 18)) (2.13.0)\n",
      "Requirement already satisfied: tensorboard-data-server<0.7.0,>=0.6.0 in c:\\users\\ankush\\appdata\\local\\programs\\python\\python310\\lib\\site-packages (from tensorboard>=2.4.1->-r requirements.txt (line 18)) (0.6.1)\n",
      "Requirement already satisfied: setuptools>=41.0.0 in c:\\users\\ankush\\appdata\\local\\programs\\python\\python310\\lib\\site-packages (from tensorboard>=2.4.1->-r requirements.txt (line 18)) (63.2.0)\n",
      "Requirement already satisfied: absl-py>=0.4 in c:\\users\\ankush\\appdata\\local\\programs\\python\\python310\\lib\\site-packages (from tensorboard>=2.4.1->-r requirements.txt (line 18)) (1.3.0)\n",
      "Requirement already satisfied: pytz>=2020.1 in c:\\users\\ankush\\appdata\\local\\programs\\python\\python310\\lib\\site-packages (from pandas>=1.1.4->-r requirements.txt (line 23)) (2022.5)\n",
      "Requirement already satisfied: matplotlib-inline in c:\\users\\ankush\\appdata\\local\\programs\\python\\python310\\lib\\site-packages (from ipython->-r requirements.txt (line 41)) (0.1.6)\n",
      "Requirement already satisfied: decorator in c:\\users\\ankush\\appdata\\local\\programs\\python\\python310\\lib\\site-packages (from ipython->-r requirements.txt (line 41)) (5.1.1)\n",
      "Requirement already satisfied: pickleshare in c:\\users\\ankush\\appdata\\local\\programs\\python\\python310\\lib\\site-packages (from ipython->-r requirements.txt (line 41)) (0.7.5)\n",
      "Requirement already satisfied: stack-data in c:\\users\\ankush\\appdata\\local\\programs\\python\\python310\\lib\\site-packages (from ipython->-r requirements.txt (line 41)) (0.5.1)\n",
      "Requirement already satisfied: backcall in c:\\users\\ankush\\appdata\\local\\programs\\python\\python310\\lib\\site-packages (from ipython->-r requirements.txt (line 41)) (0.2.0)\n",
      "Requirement already satisfied: jedi>=0.16 in c:\\users\\ankush\\appdata\\local\\programs\\python\\python310\\lib\\site-packages (from ipython->-r requirements.txt (line 41)) (0.18.1)\n",
      "Requirement already satisfied: traitlets>=5 in c:\\users\\ankush\\appdata\\local\\programs\\python\\python310\\lib\\site-packages (from ipython->-r requirements.txt (line 41)) (5.5.0)\n",
      "Requirement already satisfied: prompt-toolkit<3.1.0,>3.0.1 in c:\\users\\ankush\\appdata\\local\\programs\\python\\python310\\lib\\site-packages (from ipython->-r requirements.txt (line 41)) (3.0.31)\n",
      "Requirement already satisfied: pygments>=2.4.0 in c:\\users\\ankush\\appdata\\local\\programs\\python\\python310\\lib\\site-packages (from ipython->-r requirements.txt (line 41)) (2.13.0)\n",
      "Requirement already satisfied: cachetools<6.0,>=2.0.0 in c:\\users\\ankush\\appdata\\local\\programs\\python\\python310\\lib\\site-packages (from google-auth<3,>=1.6.3->tensorboard>=2.4.1->-r requirements.txt (line 18)) (5.2.0)\n",
      "Requirement already satisfied: pyasn1-modules>=0.2.1 in c:\\users\\ankush\\appdata\\local\\programs\\python\\python310\\lib\\site-packages (from google-auth<3,>=1.6.3->tensorboard>=2.4.1->-r requirements.txt (line 18)) (0.2.8)\n",
      "Requirement already satisfied: rsa<5,>=3.1.4 in c:\\users\\ankush\\appdata\\local\\programs\\python\\python310\\lib\\site-packages (from google-auth<3,>=1.6.3->tensorboard>=2.4.1->-r requirements.txt (line 18)) (4.9)\n",
      "Requirement already satisfied: six>=1.9.0 in c:\\users\\ankush\\appdata\\local\\programs\\python\\python310\\lib\\site-packages (from google-auth<3,>=1.6.3->tensorboard>=2.4.1->-r requirements.txt (line 18)) (1.16.0)\n",
      "Requirement already satisfied: requests-oauthlib>=0.7.0 in c:\\users\\ankush\\appdata\\local\\programs\\python\\python310\\lib\\site-packages (from google-auth-oauthlib<0.5,>=0.4.1->tensorboard>=2.4.1->-r requirements.txt (line 18)) (1.3.1)\n",
      "Requirement already satisfied: parso<0.9.0,>=0.8.0 in c:\\users\\ankush\\appdata\\local\\programs\\python\\python310\\lib\\site-packages (from jedi>=0.16->ipython->-r requirements.txt (line 41)) (0.8.3)\n",
      "Requirement already satisfied: wcwidth in c:\\users\\ankush\\appdata\\local\\programs\\python\\python310\\lib\\site-packages (from prompt-toolkit<3.1.0,>3.0.1->ipython->-r requirements.txt (line 41)) (0.2.5)\n",
      "Requirement already satisfied: MarkupSafe>=2.1.1 in c:\\users\\ankush\\appdata\\local\\programs\\python\\python310\\lib\\site-packages (from werkzeug>=1.0.1->tensorboard>=2.4.1->-r requirements.txt (line 18)) (2.1.1)\n",
      "Requirement already satisfied: asttokens in c:\\users\\ankush\\appdata\\local\\programs\\python\\python310\\lib\\site-packages (from stack-data->ipython->-r requirements.txt (line 41)) (2.0.8)\n",
      "Requirement already satisfied: pure-eval in c:\\users\\ankush\\appdata\\local\\programs\\python\\python310\\lib\\site-packages (from stack-data->ipython->-r requirements.txt (line 41)) (0.2.2)\n",
      "Requirement already satisfied: executing in c:\\users\\ankush\\appdata\\local\\programs\\python\\python310\\lib\\site-packages (from stack-data->ipython->-r requirements.txt (line 41)) (1.1.1)\n",
      "Requirement already satisfied: pyasn1<0.5.0,>=0.4.6 in c:\\users\\ankush\\appdata\\local\\programs\\python\\python310\\lib\\site-packages (from pyasn1-modules>=0.2.1->google-auth<3,>=1.6.3->tensorboard>=2.4.1->-r requirements.txt (line 18)) (0.4.8)\n",
      "Requirement already satisfied: oauthlib>=3.0.0 in c:\\users\\ankush\\appdata\\local\\programs\\python\\python310\\lib\\site-packages (from requests-oauthlib>=0.7.0->google-auth-oauthlib<0.5,>=0.4.1->tensorboard>=2.4.1->-r requirements.txt (line 18)) (3.2.2)\n",
      "Note: you may need to restart the kernel to use updated packages.\n"
     ]
    }
   ],
   "source": [
    "pip install -r requirements.txt"
   ]
  },
  {
   "cell_type": "code",
   "execution_count": 5,
   "id": "7d685986",
   "metadata": {},
   "outputs": [
    {
     "name": "stderr",
     "output_type": "stream",
     "text": [
      "Using cache found in C:\\Users\\ANKUSH/.cache\\torch\\hub\\ultralytics_yolov5_master\n",
      "YOLOv5  2022-10-30 Python-3.10.6 torch-1.12.1+cpu CPU\n",
      "\n",
      "Fusing layers... \n",
      "YOLOv5s summary: 213 layers, 7225885 parameters, 0 gradients\n",
      "Adding AutoShape... \n",
      "image 1/1: 720x1280 2 persons, 2 ties\n",
      "Speed: 1227.1ms pre-process, 356.6ms inference, 20.2ms NMS per image at shape (1, 3, 384, 640)\n"
     ]
    }
   ],
   "source": [
    "import torch\n",
    "\n",
    "# Model\n",
    "model = torch.hub.load('ultralytics/yolov5', 'yolov5s')  # or yolov5n - yolov5x6, custom\n",
    "\n",
    "# Images\n",
    "img = 'https://ultralytics.com/images/zidane.jpg'  # or file, Path, PIL, OpenCV, numpy, list\n",
    "\n",
    "# Inference\n",
    "results = model(img)\n",
    "\n",
    "# Results\n",
    "results.print() "
   ]
  },
  {
   "cell_type": "code",
   "execution_count": 4,
   "id": "6dc1065d",
   "metadata": {},
   "outputs": [
    {
     "name": "stderr",
     "output_type": "stream",
     "text": [
      "C:\\Users\\ANKUSH\\AppData\\Local\\Programs\\Python\\Python310\\lib\\site-packages\\torch\\hub.py:266: UserWarning: You are about to download and run code from an untrusted repository. In a future release, this won't be allowed. To add the repository to your trusted list, change the command to {calling_fn}(..., trust_repo=False) and a command prompt will appear asking for an explicit confirmation of trust, or load(..., trust_repo=True), which will assume that the prompt is to be answered with 'yes'. You can also use load(..., trust_repo='check') which will only prompt for confirmation if the repo is not already trusted. This will eventually be the default behaviour\n",
      "  warnings.warn(\n",
      "Downloading: \"https://github.com/ultralytics/yolov5/zipball/master\" to C:\\Users\\ANKUSH/.cache\\torch\\hub\\master.zip\n",
      "YOLOv5  2022-10-30 Python-3.10.6 torch-1.12.1+cpu CPU\n",
      "\n",
      "Downloading https://github.com/ultralytics/yolov5/releases/download/v6.2/yolov5s.pt to yolov5s.pt...\n"
     ]
    },
    {
     "data": {
      "application/vnd.jupyter.widget-view+json": {
       "model_id": "419f6eccebc94fabb0771512418a7fb7",
       "version_major": 2,
       "version_minor": 0
      },
      "text/plain": [
       "  0%|          | 0.00/14.1M [00:00<?, ?B/s]"
      ]
     },
     "metadata": {},
     "output_type": "display_data"
    },
    {
     "name": "stderr",
     "output_type": "stream",
     "text": [
      "\n",
      "Fusing layers... \n",
      "YOLOv5s summary: 213 layers, 7225885 parameters, 0 gradients\n",
      "Adding AutoShape... \n"
     ]
    }
   ],
   "source": [
    "model = torch.hub.load('ultralytics/yolov5', 'yolov5s')\n"
   ]
  },
  {
   "cell_type": "code",
   "execution_count": 6,
   "id": "6142f343",
   "metadata": {},
   "outputs": [
    {
     "ename": "SyntaxError",
     "evalue": "invalid syntax (3794573960.py, line 1)",
     "output_type": "error",
     "traceback": [
      "\u001b[1;36m  Cell \u001b[1;32mIn [6], line 1\u001b[1;36m\u001b[0m\n\u001b[1;33m    python detect.py --source 0\u001b[0m\n\u001b[1;37m           ^\u001b[0m\n\u001b[1;31mSyntaxError\u001b[0m\u001b[1;31m:\u001b[0m invalid syntax\n"
     ]
    }
   ],
   "source": [
    "python detect.py --source 0"
   ]
  },
  {
   "cell_type": "code",
   "execution_count": null,
   "id": "fb55b5c0",
   "metadata": {},
   "outputs": [],
   "source": []
  }
 ],
 "metadata": {
  "kernelspec": {
   "display_name": "Python 3 (ipykernel)",
   "language": "python",
   "name": "python3"
  },
  "language_info": {
   "codemirror_mode": {
    "name": "ipython",
    "version": 3
   },
   "file_extension": ".py",
   "mimetype": "text/x-python",
   "name": "python",
   "nbconvert_exporter": "python",
   "pygments_lexer": "ipython3",
   "version": "3.10.6"
  }
 },
 "nbformat": 4,
 "nbformat_minor": 5
}
